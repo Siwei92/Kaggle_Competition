{
 "cells": [
  {
   "cell_type": "code",
   "execution_count": 168,
   "metadata": {
    "collapsed": true
   },
   "outputs": [],
   "source": [
    "import numpy as np # linear algebra\n",
    "import pandas as pd # data processing, CSV file I/O (e.g. pd.read_csv)\n",
    "import numpy as np\n",
    "from sklearn.model_selection import train_test_split\n",
    "from sklearn import linear_model\n",
    "from sklearn.metrics import confusion_matrix\n",
    "import seaborn as sns\n",
    "sns.set_style('whitegrid')\n",
    "import matplotlib.pyplot as plt"
   ]
  },
  {
   "cell_type": "code",
   "execution_count": 2,
   "metadata": {
    "collapsed": true
   },
   "outputs": [],
   "source": [
    "data = pd.read_csv(\"animals.csv\")"
   ]
  },
  {
   "cell_type": "code",
   "execution_count": 3,
   "metadata": {},
   "outputs": [
    {
     "data": {
      "text/html": [
       "<div>\n",
       "<style>\n",
       "    .dataframe thead tr:only-child th {\n",
       "        text-align: right;\n",
       "    }\n",
       "\n",
       "    .dataframe thead th {\n",
       "        text-align: left;\n",
       "    }\n",
       "\n",
       "    .dataframe tbody tr th {\n",
       "        vertical-align: top;\n",
       "    }\n",
       "</style>\n",
       "<table border=\"1\" class=\"dataframe\">\n",
       "  <thead>\n",
       "    <tr style=\"text-align: right;\">\n",
       "      <th></th>\n",
       "      <th>timediff_mean</th>\n",
       "      <th>distance_mean</th>\n",
       "      <th>speed_mean</th>\n",
       "      <th>acc_mean</th>\n",
       "      <th>bearing_mean</th>\n",
       "      <th>timediff_min</th>\n",
       "      <th>distance_min</th>\n",
       "      <th>speed_min</th>\n",
       "      <th>acc_min</th>\n",
       "      <th>bearing_min</th>\n",
       "      <th>...</th>\n",
       "      <th>distance_median</th>\n",
       "      <th>speed_median</th>\n",
       "      <th>acc_median</th>\n",
       "      <th>bearing_median</th>\n",
       "      <th>timediff_std</th>\n",
       "      <th>distance_std</th>\n",
       "      <th>speed_std</th>\n",
       "      <th>acc_std</th>\n",
       "      <th>bearing_std</th>\n",
       "      <th>class</th>\n",
       "    </tr>\n",
       "  </thead>\n",
       "  <tbody>\n",
       "    <tr>\n",
       "      <th>0</th>\n",
       "      <td>1817.429</td>\n",
       "      <td>172.616</td>\n",
       "      <td>0.170</td>\n",
       "      <td>-0.001</td>\n",
       "      <td>183.940</td>\n",
       "      <td>50.000</td>\n",
       "      <td>0.000</td>\n",
       "      <td>0.000</td>\n",
       "      <td>-0.150</td>\n",
       "      <td>0.000</td>\n",
       "      <td>...</td>\n",
       "      <td>127.540</td>\n",
       "      <td>0.060</td>\n",
       "      <td>-0.000</td>\n",
       "      <td>179.630</td>\n",
       "      <td>929.612</td>\n",
       "      <td>184.075</td>\n",
       "      <td>0.620</td>\n",
       "      <td>0.012</td>\n",
       "      <td>120.575</td>\n",
       "      <td>DEER</td>\n",
       "    </tr>\n",
       "    <tr>\n",
       "      <th>1</th>\n",
       "      <td>2781.813</td>\n",
       "      <td>242.060</td>\n",
       "      <td>0.151</td>\n",
       "      <td>0.000</td>\n",
       "      <td>181.882</td>\n",
       "      <td>132.000</td>\n",
       "      <td>0.000</td>\n",
       "      <td>0.000</td>\n",
       "      <td>-0.020</td>\n",
       "      <td>0.000</td>\n",
       "      <td>...</td>\n",
       "      <td>127.530</td>\n",
       "      <td>0.050</td>\n",
       "      <td>0.000</td>\n",
       "      <td>179.620</td>\n",
       "      <td>10586.768</td>\n",
       "      <td>533.214</td>\n",
       "      <td>0.413</td>\n",
       "      <td>0.006</td>\n",
       "      <td>117.913</td>\n",
       "      <td>DEER</td>\n",
       "    </tr>\n",
       "    <tr>\n",
       "      <th>2</th>\n",
       "      <td>2668.411</td>\n",
       "      <td>249.293</td>\n",
       "      <td>0.170</td>\n",
       "      <td>-0.000</td>\n",
       "      <td>170.104</td>\n",
       "      <td>148.000</td>\n",
       "      <td>0.000</td>\n",
       "      <td>0.000</td>\n",
       "      <td>-0.030</td>\n",
       "      <td>0.000</td>\n",
       "      <td>...</td>\n",
       "      <td>142.460</td>\n",
       "      <td>0.060</td>\n",
       "      <td>0.000</td>\n",
       "      <td>179.630</td>\n",
       "      <td>1782.605</td>\n",
       "      <td>252.419</td>\n",
       "      <td>0.507</td>\n",
       "      <td>0.003</td>\n",
       "      <td>116.410</td>\n",
       "      <td>DEER</td>\n",
       "    </tr>\n",
       "    <tr>\n",
       "      <th>3</th>\n",
       "      <td>2542.025</td>\n",
       "      <td>272.952</td>\n",
       "      <td>0.167</td>\n",
       "      <td>-0.000</td>\n",
       "      <td>193.948</td>\n",
       "      <td>64.000</td>\n",
       "      <td>0.000</td>\n",
       "      <td>0.000</td>\n",
       "      <td>-0.030</td>\n",
       "      <td>0.000</td>\n",
       "      <td>...</td>\n",
       "      <td>134.605</td>\n",
       "      <td>0.060</td>\n",
       "      <td>0.000</td>\n",
       "      <td>182.830</td>\n",
       "      <td>1452.406</td>\n",
       "      <td>375.640</td>\n",
       "      <td>0.591</td>\n",
       "      <td>0.002</td>\n",
       "      <td>117.929</td>\n",
       "      <td>DEER</td>\n",
       "    </tr>\n",
       "    <tr>\n",
       "      <th>4</th>\n",
       "      <td>13034.830</td>\n",
       "      <td>303.418</td>\n",
       "      <td>0.202</td>\n",
       "      <td>-0.001</td>\n",
       "      <td>204.946</td>\n",
       "      <td>106.000</td>\n",
       "      <td>0.000</td>\n",
       "      <td>0.000</td>\n",
       "      <td>-0.030</td>\n",
       "      <td>0.000</td>\n",
       "      <td>...</td>\n",
       "      <td>173.880</td>\n",
       "      <td>0.070</td>\n",
       "      <td>-0.000</td>\n",
       "      <td>179.620</td>\n",
       "      <td>76566.989</td>\n",
       "      <td>361.117</td>\n",
       "      <td>0.546</td>\n",
       "      <td>0.004</td>\n",
       "      <td>117.983</td>\n",
       "      <td>DEER</td>\n",
       "    </tr>\n",
       "  </tbody>\n",
       "</table>\n",
       "<p>5 rows × 26 columns</p>\n",
       "</div>"
      ],
      "text/plain": [
       "   timediff_mean  distance_mean  speed_mean  acc_mean  bearing_mean  \\\n",
       "0       1817.429        172.616       0.170    -0.001       183.940   \n",
       "1       2781.813        242.060       0.151     0.000       181.882   \n",
       "2       2668.411        249.293       0.170    -0.000       170.104   \n",
       "3       2542.025        272.952       0.167    -0.000       193.948   \n",
       "4      13034.830        303.418       0.202    -0.001       204.946   \n",
       "\n",
       "   timediff_min  distance_min  speed_min  acc_min  bearing_min  ...    \\\n",
       "0        50.000         0.000      0.000   -0.150        0.000  ...     \n",
       "1       132.000         0.000      0.000   -0.020        0.000  ...     \n",
       "2       148.000         0.000      0.000   -0.030        0.000  ...     \n",
       "3        64.000         0.000      0.000   -0.030        0.000  ...     \n",
       "4       106.000         0.000      0.000   -0.030        0.000  ...     \n",
       "\n",
       "   distance_median  speed_median  acc_median  bearing_median  timediff_std  \\\n",
       "0          127.540         0.060      -0.000         179.630       929.612   \n",
       "1          127.530         0.050       0.000         179.620     10586.768   \n",
       "2          142.460         0.060       0.000         179.630      1782.605   \n",
       "3          134.605         0.060       0.000         182.830      1452.406   \n",
       "4          173.880         0.070      -0.000         179.620     76566.989   \n",
       "\n",
       "   distance_std  speed_std  acc_std  bearing_std  class  \n",
       "0       184.075      0.620    0.012      120.575   DEER  \n",
       "1       533.214      0.413    0.006      117.913   DEER  \n",
       "2       252.419      0.507    0.003      116.410   DEER  \n",
       "3       375.640      0.591    0.002      117.929   DEER  \n",
       "4       361.117      0.546    0.004      117.983   DEER  \n",
       "\n",
       "[5 rows x 26 columns]"
      ]
     },
     "execution_count": 3,
     "metadata": {},
     "output_type": "execute_result"
    }
   ],
   "source": [
    "data.head()"
   ]
  },
  {
   "cell_type": "code",
   "execution_count": 23,
   "metadata": {},
   "outputs": [],
   "source": [
    "train = data[data.columns[0:25]]\n",
    "X = train.values.T.tolist()"
   ]
  },
  {
   "cell_type": "code",
   "execution_count": 24,
   "metadata": {},
   "outputs": [],
   "source": [
    "target = data[data.columns[25]]\n",
    "y = target.values.T.tolist()"
   ]
  },
  {
   "cell_type": "code",
   "execution_count": 27,
   "metadata": {},
   "outputs": [],
   "source": [
    "X_train, X_test, y_train, y_test = train_test_split(X, y, test_size=0.33, random_state=42)"
   ]
  },
  {
   "cell_type": "code",
   "execution_count": 133,
   "metadata": {},
   "outputs": [
    {
     "name": "stdout",
     "output_type": "stream",
     "text": [
      "[[ 52  13  27]\n",
      " [106 208  70]\n",
      " [195 263 761]]\n",
      "[[  93   25   49]\n",
      " [ 201  364  159]\n",
      " [ 397  550 1602]]\n",
      "0.602359882006\n",
      "0.598546511628\n"
     ]
    }
   ],
   "source": [
    "from sklearn.linear_model import LogisticRegression\n",
    "logistic = LogisticRegression()\n",
    "logistic.fit(X_train,y_train)\n",
    "Test_LG_result = logistic.predict(X_test)\n",
    "Train_LG_result = logistic.predict(X_train)\n",
    "print(confusion_matrix(Test_LG_result, y_test))\n",
    "print(confusion_matrix(Train_LG_result, y_train))\n",
    "LG_test_Score = logistic.score(X_test, y_test)\n",
    "LG_train_Score = logistic.score(X_train, y_train)\n",
    "print(LG_test_Score)\n",
    "print(LG_train_Score)"
   ]
  },
  {
   "cell_type": "code",
   "execution_count": 131,
   "metadata": {},
   "outputs": [
    {
     "name": "stdout",
     "output_type": "stream",
     "text": [
      "[[ 58  23  37]\n",
      " [273 443 705]\n",
      " [ 22  18 116]]\n",
      "[[  82   42   72]\n",
      " [ 545  869 1536]\n",
      " [  64   28  202]]\n",
      "0.36401179941\n",
      "0.335174418605\n"
     ]
    }
   ],
   "source": [
    "from sklearn.naive_bayes import GaussianNB\n",
    "gnb = GaussianNB()\n",
    "gnb.fit(X_train,y_train)\n",
    "Test_gnb_result = gnb.predict(X_test)\n",
    "Train_gnb_result = gnb.predict(X_train)\n",
    "print(confusion_matrix(Test_gnb_result, y_test))\n",
    "print(confusion_matrix(Train_gnb_result, y_train))\n",
    "gnb_test_Score = gnb.score(X_test, y_test)\n",
    "gnb_train_Score = gnb.score(X_train, y_train)\n",
    "print(gnb_test_Score)\n",
    "print(gnb_train_Score)"
   ]
  },
  {
   "cell_type": "code",
   "execution_count": 132,
   "metadata": {},
   "outputs": [
    {
     "name": "stdout",
     "output_type": "stream",
     "text": [
      "[[183  85  96]\n",
      " [ 74 207 172]\n",
      " [ 96 192 590]]\n",
      "[[ 691    0    0]\n",
      " [   0  939    0]\n",
      " [   0    0 1810]]\n",
      "0.597640117994\n",
      "1.0\n"
     ]
    }
   ],
   "source": [
    "from sklearn import tree\n",
    "tree_clf = tree.DecisionTreeClassifier()\n",
    "tree_clf.fit(X_train,y_train)\n",
    "tree_test_result = clf.predict(X_test)\n",
    "tree_train_result = clf.predict(X_train)\n",
    "print(confusion_matrix(tree_test_result, y_test))\n",
    "print(confusion_matrix(tree_train_result, y_train))\n",
    "tree_test_Score = tree_clf.score(X_test, y_test)\n",
    "tree_train_Score =tree_clf.score(X_train, y_train)\n",
    "print(tree_test_Score)\n",
    "print(tree_train_Score)"
   ]
  },
  {
   "cell_type": "code",
   "execution_count": 156,
   "metadata": {},
   "outputs": [
    {
     "name": "stdout",
     "output_type": "stream",
     "text": [
      "[[177  91  74]\n",
      " [ 69 243  92]\n",
      " [107 150 692]]\n",
      "[[ 680    5   10]\n",
      " [   2  924    8]\n",
      " [   9   10 1792]]\n",
      "0.65604719764\n",
      "0.987209302326\n"
     ]
    }
   ],
   "source": [
    "from sklearn.ensemble import RandomForestClassifier\n",
    "RF_clf = RandomForestClassifier(n_estimators=10)\n",
    "RF_clf.fit(X_train,y_train)\n",
    "RF_test_result = RF_clf.predict(X_test)\n",
    "RF_train_result = RF_clf.predict(X_train)\n",
    "print(confusion_matrix(RF_test_result, y_test))\n",
    "print(confusion_matrix(RF_train_result, y_train))\n",
    "RF_Test_Score = RF_clf.score(X_test, y_test)\n",
    "RF_Train_Score = RF_clf.score(X_train, y_train)\n",
    "print(RF_Test_Score)\n",
    "print(RF_Train_Score)"
   ]
  },
  {
   "cell_type": "code",
   "execution_count": 169,
   "metadata": {},
   "outputs": [
    {
     "data": {
      "image/png": "[encoded data removed]",
      "text/plain": [
       "<matplotlib.figure.Figure at 0x1169e1310>"
      ]
     },
     "metadata": {},
     "output_type": "display_data"
    }
   ],
   "source": [
    "\n",
    "N = 4\n",
    "ind = np.arange(N)  # the x locations for the groups\n",
    "width = 0.35       # the width of the bars\n",
    "fig, ax = plt.subplots()\n",
    "\n",
    "TEST_SCORE = (LG_test_Score, gnb_test_Score, tree_test_Score, RF_Test_Score)\n",
    "rects1 = ax.bar(ind, TEST_SCORE, width, color='r')\n",
    "\n",
    "TRAIN_SCORE = (LG_train_Score, gnb_train_Score, tree_train_Score, RF_Train_Score)\n",
    "rects2 = ax.bar(ind + width, TRAIN_SCORE, width, color='y')\n",
    "\n",
    "# add some text for labels, title and axes ticks\n",
    "ax.set_ylabel('Scores')\n",
    "ax.set_xticks(ind + width / 2)\n",
    "ax.set_xticklabels(('LR', 'NB', 'DT', 'RF'))\n",
    "\n",
    "ax.legend((rects1[0], rects2[0]), ('Test_Score', 'Train_Score'))\n",
    "\n",
    "plt.show()\n"
   ]
  },
  {
   "cell_type": "code",
   "execution_count": 89,
   "metadata": {},
   "outputs": [
    {
     "name": "stdout",
     "output_type": "stream",
     "text": [
      "[ 0.53786408  0.57475728  0.59029126  0.59143969  0.59844055  0.61793372\n",
      "  0.60818713  0.64132554  0.59570312  0.56445312]\n",
      "0.592039549965\n",
      "0.027226533814\n"
     ]
    }
   ],
   "source": [
    "from sklearn.cross_validation import cross_val_score\n",
    "logistic = LogisticRegression()\n",
    "CV_Score_LR = cross_val_score(logistic, X, y, cv=10, n_jobs=1)\n",
    "print(CV_Score_LR)\n",
    "print(CV_Score_LR.mean())\n",
    "print(CV_Score_LR.std())"
   ]
  },
  {
   "cell_type": "code",
   "execution_count": 90,
   "metadata": {},
   "outputs": [
    {
     "name": "stdout",
     "output_type": "stream",
     "text": [
      "[ 0.31456311  0.35339806  0.35533981  0.34435798  0.36842105  0.37426901\n",
      "  0.3625731   0.33723197  0.30664062  0.30273438]\n",
      "0.341952907423\n",
      "0.0245837530606\n"
     ]
    }
   ],
   "source": [
    "from sklearn.cross_validation import cross_val_score\n",
    "gnb = GaussianNB()\n",
    "CV_Score_gnb = cross_val_score(gnb, X, y, cv=10, n_jobs=1)\n",
    "print(CV_Score_gnb)\n",
    "print(CV_Score_gnb.mean())\n",
    "print(CV_Score_gnb.std())"
   ]
  },
  {
   "cell_type": "code",
   "execution_count": 91,
   "metadata": {},
   "outputs": [
    {
     "name": "stdout",
     "output_type": "stream",
     "text": [
      "[ 0.53592233  0.58252427  0.56504854  0.58171206  0.55750487  0.6374269\n",
      "  0.55750487  0.59454191  0.55078125  0.5234375 ]\n",
      "0.568640451539\n",
      "0.0307566675678\n"
     ]
    }
   ],
   "source": [
    "from sklearn.cross_validation import cross_val_score\n",
    "tree_clf = tree.DecisionTreeClassifier()\n",
    "CV_Score_tree = cross_val_score(tree_clf, X, y, cv=10, n_jobs=1)\n",
    "print(CV_Score_tree)\n",
    "print(CV_Score_tree.mean())\n",
    "print(CV_Score_tree.std())"
   ]
  },
  {
   "cell_type": "code",
   "execution_count": 157,
   "metadata": {},
   "outputs": [
    {
     "name": "stdout",
     "output_type": "stream",
     "text": [
      "[ 0.59223301  0.65048544  0.62135922  0.64785992  0.62573099  0.69395712\n",
      "  0.63937622  0.69005848  0.6171875   0.58398438]\n",
      "0.63622322741\n",
      "0.0345508642932\n"
     ]
    }
   ],
   "source": [
    "from sklearn.cross_validation import cross_val_score\n",
    "RF_clf = RandomForestClassifier(n_estimators=10)\n",
    "CV_Score_RF = cross_val_score(RF_clf, X, y, cv=10, n_jobs=1)\n",
    "print(CV_Score_RF)\n",
    "print(CV_Score_RF.mean())\n",
    "print(CV_Score_RF.std())"
   ]
  },
  {
   "cell_type": "code",
   "execution_count": 158,
   "metadata": {},
   "outputs": [
    {
     "name": "stdout",
     "output_type": "stream",
     "text": [
      "Ttest_indResult(statistic=3.0132656893903396, pvalue=0.007466784986314123)\n"
     ]
    }
   ],
   "source": [
    "from scipy import stats\n",
    "print(stats.ttest_ind(CV_Score_RF, CV_Score_LR))"
   ]
  },
  {
   "cell_type": "code",
   "execution_count": 159,
   "metadata": {},
   "outputs": [
    {
     "name": "stdout",
     "output_type": "stream",
     "text": [
      "Ttest_indResult(statistic=20.818910658210669, pvalue=4.8125756001664799e-14)\n"
     ]
    }
   ],
   "source": [
    "print(stats.ttest_ind(CV_Score_RF, CV_Score_gnb))"
   ]
  },
  {
   "cell_type": "code",
   "execution_count": 160,
   "metadata": {},
   "outputs": [
    {
     "name": "stdout",
     "output_type": "stream",
     "text": [
      "Ttest_indResult(statistic=4.383058864129147, pvalue=0.0003586564707929605)\n"
     ]
    }
   ],
   "source": [
    "print(stats.ttest_ind(CV_Score_RF, CV_Score_tree))"
   ]
  },
  {
   "cell_type": "code",
   "execution_count": 161,
   "metadata": {},
   "outputs": [
    {
     "name": "stdout",
     "output_type": "stream",
     "text": [
      "0.642657534338\n"
     ]
    }
   ],
   "source": [
    "from sklearn.cross_validation import cross_val_score\n",
    "RF_clf_10 = RandomForestClassifier(n_estimators=10)\n",
    "CV_Score_RF_10 = cross_val_score(RM_clf_10, X, y, cv=10, n_jobs=1)\n",
    "print(CV_Score_RF_10.mean())"
   ]
  },
  {
   "cell_type": "code",
   "execution_count": 162,
   "metadata": {},
   "outputs": [
    {
     "name": "stdout",
     "output_type": "stream",
     "text": [
      "0.663874805244\n"
     ]
    }
   ],
   "source": [
    "RF_clf_20 = RandomForestClassifier(n_estimators=20)\n",
    "CV_Score_RF_20 = cross_val_score(RF_clf_20, X, y, cv=10, n_jobs=1)\n",
    "print(CV_Score_RF_20.mean())"
   ]
  },
  {
   "cell_type": "code",
   "execution_count": 163,
   "metadata": {},
   "outputs": [
    {
     "name": "stdout",
     "output_type": "stream",
     "text": [
      "0.66815497564\n"
     ]
    }
   ],
   "source": [
    "RF_clf_50 = RandomForestClassifier(n_estimators=50)\n",
    "CV_Score_RF_50 = cross_val_score(RF_clf_50, X, y, cv=10, n_jobs=1)\n",
    "print(CV_Score_RF_50.mean())"
   ]
  },
  {
   "cell_type": "code",
   "execution_count": 164,
   "metadata": {},
   "outputs": [
    {
     "name": "stdout",
     "output_type": "stream",
     "text": [
      "0.67516307081\n"
     ]
    }
   ],
   "source": [
    "RF_clf_100 = RandomForestClassifier(n_estimators=100)\n",
    "CV_Score_RF_100 = cross_val_score(RF_clf_100, X, y, cv=10, n_jobs=1)\n",
    "print(CV_Score_RF_100.mean())"
   ]
  },
  {
   "cell_type": "code",
   "execution_count": 165,
   "metadata": {},
   "outputs": [
    {
     "name": "stdout",
     "output_type": "stream",
     "text": [
      "Ttest_indResult(statistic=4.9352542751202009, pvalue=0.00010682810647986464)\n"
     ]
    }
   ],
   "source": [
    "print(stats.ttest_ind(CV_Score_RF_100, CV_Score_LR))"
   ]
  },
  {
   "cell_type": "code",
   "execution_count": 166,
   "metadata": {},
   "outputs": [
    {
     "name": "stdout",
     "output_type": "stream",
     "text": [
      "Ttest_indResult(statistic=20.336363900352556, pvalue=7.2210076715118694e-14)\n"
     ]
    }
   ],
   "source": [
    "print(stats.ttest_ind(CV_Score_RF_100, CV_Score_gnb))"
   ]
  },
  {
   "cell_type": "code",
   "execution_count": 167,
   "metadata": {},
   "outputs": [
    {
     "name": "stdout",
     "output_type": "stream",
     "text": [
      "Ttest_indResult(statistic=6.085286178298575, pvalue=9.4682536710682258e-06)\n"
     ]
    }
   ],
   "source": [
    "print(stats.ttest_ind(CV_Score_RF_100, CV_Score_tree))"
   ]
  },
  {
   "cell_type": "code",
   "execution_count": null,
   "metadata": {
    "collapsed": true
   },
   "outputs": [],
   "source": [
    "from sklearn.metrics import classification_report"
   ]
  }
 ],
 "metadata": {
  "kernelspec": {
   "display_name": "Python 3",
   "language": "python",
   "name": "python3"
  },
  "language_info": {
   "codemirror_mode": {
    "name": "ipython",
    "version": 2
   },
   "file_extension": ".py",
   "mimetype": "text/x-python",
   "name": "python",
   "nbconvert_exporter": "python",
   "pygments_lexer": "ipython2",
   "version": "2.7.13"
  }
 },
 "nbformat": 4,
 "nbformat_minor": 2
}
